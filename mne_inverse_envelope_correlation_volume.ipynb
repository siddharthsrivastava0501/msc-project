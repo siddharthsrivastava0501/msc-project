{
  "cells": [
    {
      "cell_type": "markdown",
      "metadata": {},
      "source": [
        "\n",
        "# Compute envelope correlations in volume source space\n",
        "\n",
        "Compute envelope correlations of orthogonalized activity\n",
        ":footcite:`HippEtAl2012,KhanEtAl2018` in source space using resting state\n",
        "CTF data in a volume source space.\n"
      ]
    },
    {
      "cell_type": "code",
      "execution_count": 1,
      "metadata": {
        "collapsed": false
      },
      "outputs": [],
      "source": [
        "# Authors: Eric Larson <larson.eric.d@gmail.com>\n",
        "#          Sheraz Khan <sheraz@khansheraz.com>\n",
        "#          Denis Engemann <denis.engemann@gmail.com>\n",
        "#\n",
        "# License: BSD (3-clause)\n",
        "\n",
        "import os.path as op\n",
        "\n",
        "import mne\n",
        "import mne_connectivity\n",
        "from mne.beamformer import make_lcmv, apply_lcmv_epochs\n",
        "from mne.preprocessing import compute_proj_ecg, compute_proj_eog\n",
        "from mne_connectivity import envelope_correlation\n",
        "\n",
        "data_path = mne.datasets.brainstorm.bst_resting.data_path()\n",
        "subjects_dir = op.join(data_path, \"subjects\")\n",
        "subject = \"bst_resting\"\n",
        "trans = op.join(data_path, \"MEG\", \"bst_resting\", \"bst_resting-trans.fif\")\n",
        "bem = op.join(subjects_dir, subject, \"bem\", subject + \"-5120-bem-sol.fif\")\n",
        "raw_fname = op.join(\n",
        "    data_path, \"MEG\", \"bst_resting\", \"subj002_spontaneous_20111102_01_AUX.ds\"\n",
        ")\n",
        "crop_to = 60.0"
      ]
    },
    {
      "cell_type": "markdown",
      "metadata": {},
      "source": [
        "Here we do some things in the name of speed, such as crop (which will\n",
        "hurt SNR) and downsample. Then we compute SSP projectors and apply them.\n",
        "\n"
      ]
    },
    {
      "cell_type": "code",
      "execution_count": 2,
      "metadata": {
        "collapsed": false
      },
      "outputs": [
        {
          "name": "stdout",
          "output_type": "stream",
          "text": [
            "NOTE: pick_types() is a legacy function. New code should use inst.pick(...).\n",
            "Reading 0 ... 144000  =      0.000 ...    60.000 secs...\n",
            "Including 0 SSP projectors from raw file\n",
            "Running ECG SSP computation\n",
            "Reconstructing ECG signal from Magnetometers\n",
            "Setting up band-pass filter from 5 - 35 Hz\n",
            "\n",
            "FIR filter parameters\n",
            "---------------------\n",
            "Designing a two-pass forward and reverse, zero-phase, non-causal bandpass filter:\n",
            "- Windowed frequency-domain design (firwin2) method\n",
            "- Hann window\n",
            "- Lower passband edge: 5.00\n",
            "- Lower transition bandwidth: 0.50 Hz (-12 dB cutoff frequency: 4.75 Hz)\n",
            "- Upper passband edge: 35.00 Hz\n",
            "- Upper transition bandwidth: 0.50 Hz (-12 dB cutoff frequency: 35.25 Hz)\n",
            "- Filter length: 800 samples (10.000 s)\n",
            "\n",
            "Number of ECG events detected : 88 (average pulse 88 / min.)\n",
            "Computing projector\n",
            "Filtering raw data in 1 contiguous segment\n",
            "Setting up band-pass filter from 1 - 35 Hz\n",
            "\n",
            "FIR filter parameters\n",
            "---------------------\n",
            "Designing a two-pass forward and reverse, zero-phase, non-causal bandpass filter:\n",
            "- Windowed frequency-domain design (firwin2) method\n",
            "- Hamming window\n",
            "- Lower passband edge: 1.00\n",
            "- Lower transition bandwidth: 0.50 Hz (-12 dB cutoff frequency: 0.75 Hz)\n",
            "- Upper passband edge: 35.00 Hz\n",
            "- Upper transition bandwidth: 0.50 Hz (-12 dB cutoff frequency: 35.25 Hz)\n",
            "- Filter length: 800 samples (10.000 s)\n",
            "\n",
            "Not setting metadata\n",
            "88 matching events found\n",
            "No baseline correction applied\n",
            "0 projection items activated\n",
            "Using data from preloaded Raw for 88 events and 49 original time points ...\n",
            "    Rejecting  epoch based on MAG : ['MLT31-4407', 'MRT31-4407']\n",
            "    Rejecting  epoch based on MAG : ['MLT31-4407', 'MLT41-4407', 'MRT31-4407', 'MRT41-4407']\n",
            "    Rejecting  epoch based on MAG : ['MLT31-4407', 'MLT41-4407', 'MRT31-4407', 'MRT41-4407']\n",
            "4 bad epochs dropped\n",
            "No channels 'grad' found. Skipping.\n",
            "Adding projection: axial--0.200-0.400-PCA-01 (exp var=37.7%)\n"
          ]
        },
        {
          "name": "stderr",
          "output_type": "stream",
          "text": [
            "[Parallel(n_jobs=1)]: Done  17 tasks      | elapsed:    0.0s\n",
            "[Parallel(n_jobs=1)]: Done  71 tasks      | elapsed:    0.0s\n",
            "[Parallel(n_jobs=1)]: Done 161 tasks      | elapsed:    0.0s\n",
            "[Parallel(n_jobs=1)]: Done 287 tasks      | elapsed:    0.1s\n"
          ]
        },
        {
          "name": "stdout",
          "output_type": "stream",
          "text": [
            "Adding projection: axial--0.200-0.400-PCA-02 (exp var=22.8%)\n",
            "No channels 'eeg' found. Skipping.\n",
            "Done.\n",
            "Including 0 SSP projectors from raw file\n",
            "Running EOG SSP computation\n",
            "Using EOG channel: MLT31-4407\n",
            "EOG channel index for this subject is: [137]\n",
            "Filtering the data to remove DC offset to help distinguish blinks from saccades\n",
            "Selecting channel MLT31-4407 for blink detection\n",
            "Setting up band-pass filter from 1 - 10 Hz\n",
            "\n",
            "FIR filter parameters\n",
            "---------------------\n",
            "Designing a two-pass forward and reverse, zero-phase, non-causal bandpass filter:\n",
            "- Windowed frequency-domain design (firwin2) method\n",
            "- Hann window\n",
            "- Lower passband edge: 1.00\n",
            "- Lower transition bandwidth: 0.50 Hz (-12 dB cutoff frequency: 0.75 Hz)\n",
            "- Upper passband edge: 10.00 Hz\n",
            "- Upper transition bandwidth: 0.50 Hz (-12 dB cutoff frequency: 10.25 Hz)\n",
            "- Filter length: 800 samples (10.000 s)\n",
            "\n",
            "Now detecting blinks and generating corresponding events\n",
            "Found 12 significant peaks\n",
            "Number of EOG events detected: 12\n",
            "Computing projector\n",
            "Filtering raw data in 1 contiguous segment\n",
            "Setting up band-pass filter from 1 - 35 Hz\n",
            "\n",
            "FIR filter parameters\n",
            "---------------------\n",
            "Designing a two-pass forward and reverse, zero-phase, non-causal bandpass filter:\n",
            "- Windowed frequency-domain design (firwin2) method\n",
            "- Hamming window\n",
            "- Lower passband edge: 1.00\n",
            "- Lower transition bandwidth: 0.50 Hz (-12 dB cutoff frequency: 0.75 Hz)\n",
            "- Upper passband edge: 35.00 Hz\n",
            "- Upper transition bandwidth: 0.50 Hz (-12 dB cutoff frequency: 35.25 Hz)\n",
            "- Filter length: 800 samples (10.000 s)\n",
            "\n",
            "Not setting metadata\n",
            "12 matching events found\n",
            "No baseline correction applied\n",
            "0 projection items activated\n",
            "Using data from preloaded Raw for 12 events and 33 original time points ...\n",
            "    Rejecting  epoch based on MAG : ['MRT41-4407']\n",
            "1 bad epochs dropped\n",
            "No channels 'grad' found. Skipping.\n"
          ]
        },
        {
          "name": "stderr",
          "output_type": "stream",
          "text": [
            "[Parallel(n_jobs=1)]: Done  17 tasks      | elapsed:    0.0s\n",
            "[Parallel(n_jobs=1)]: Done  71 tasks      | elapsed:    0.0s\n",
            "[Parallel(n_jobs=1)]: Done 161 tasks      | elapsed:    0.0s\n",
            "[Parallel(n_jobs=1)]: Done 287 tasks      | elapsed:    0.1s\n"
          ]
        },
        {
          "name": "stdout",
          "output_type": "stream",
          "text": [
            "Adding projection: axial--0.200-0.200-PCA-01 (exp var=92.2%)\n",
            "Adding projection: axial--0.200-0.200-PCA-02 (exp var=2.4%)\n",
            "No channels 'eeg' found. Skipping.\n",
            "Done.\n",
            "4 projection items deactivated\n",
            "Created an SSP operator (subspace dimension = 4)\n",
            "4 projection items activated\n",
            "SSP projectors applied...\n",
            "Using up to 300 segments\n",
            "Number of samples used : 4800\n",
            "[done]\n"
          ]
        }
      ],
      "source": [
        "raw = mne.io.read_raw_ctf(raw_fname, verbose=\"error\")\n",
        "raw.crop(0, crop_to).pick_types(meg=True, eeg=False).load_data().resample(80)\n",
        "raw.apply_gradient_compensation(3)\n",
        "projs_ecg, _ = compute_proj_ecg(raw, n_grad=1, n_mag=2)\n",
        "projs_eog, _ = compute_proj_eog(raw, n_grad=1, n_mag=2, ch_name=\"MLT31-4407\")\n",
        "raw.add_proj(projs_ecg + projs_eog)\n",
        "raw.apply_proj()\n",
        "cov = mne.compute_raw_covariance(raw)  # compute before band-pass of interest"
      ]
    },
    {
      "cell_type": "markdown",
      "metadata": {},
      "source": [
        "Now we band-pass filter our data and create epochs.\n",
        "\n"
      ]
    },
    {
      "cell_type": "code",
      "execution_count": 3,
      "metadata": {
        "collapsed": false
      },
      "outputs": [
        {
          "name": "stdout",
          "output_type": "stream",
          "text": [
            "Filtering raw data in 1 contiguous segment\n",
            "Setting up band-pass filter from 14 - 30 Hz\n",
            "\n",
            "FIR filter parameters\n",
            "---------------------\n",
            "Designing a one-pass, zero-phase, non-causal bandpass filter:\n",
            "- Windowed time-domain design (firwin) method\n",
            "- Hamming window with 0.0194 passband ripple and 53 dB stopband attenuation\n",
            "- Lower passband edge: 14.00\n",
            "- Lower transition bandwidth: 3.50 Hz (-6 dB cutoff frequency: 12.25 Hz)\n",
            "- Upper passband edge: 30.00 Hz\n",
            "- Upper transition bandwidth: 7.50 Hz (-6 dB cutoff frequency: 33.75 Hz)\n",
            "- Filter length: 77 samples (0.963 s)\n",
            "\n",
            "Not setting metadata\n",
            "12 matching events found\n",
            "No baseline correction applied\n",
            "Created an SSP operator (subspace dimension = 4)\n",
            "4 projection items activated\n",
            "Using data from preloaded Raw for 12 events and 401 original time points ...\n",
            "    Rejecting  epoch based on MAG : ['MRC42-4407', 'MRC54-4407', 'MRP12-4407', 'MRP22-4407', 'MRP23-4407']\n",
            "2 bad epochs dropped\n",
            "Removing 5 compensators from info because not all compensation channels were picked.\n"
          ]
        },
        {
          "name": "stderr",
          "output_type": "stream",
          "text": [
            "[Parallel(n_jobs=1)]: Done  17 tasks      | elapsed:    0.0s\n",
            "[Parallel(n_jobs=1)]: Done  71 tasks      | elapsed:    0.0s\n",
            "[Parallel(n_jobs=1)]: Done 161 tasks      | elapsed:    0.0s\n",
            "[Parallel(n_jobs=1)]: Done 287 tasks      | elapsed:    0.1s\n"
          ]
        },
        {
          "name": "stdout",
          "output_type": "stream",
          "text": [
            "    Created an SSP operator (subspace dimension = 4)\n",
            "    Setting small MAG eigenvalues to zero (without PCA)\n",
            "Reducing data rank from 272 -> 268\n",
            "Estimating covariance using EMPIRICAL\n",
            "Done.\n",
            "Number of samples used : 4010\n",
            "[done]\n"
          ]
        }
      ],
      "source": [
        "raw.filter(14, 30)\n",
        "events = mne.make_fixed_length_events(raw, duration=5.0)\n",
        "epochs = mne.Epochs(\n",
        "    raw,\n",
        "    events=events,\n",
        "    tmin=0,\n",
        "    tmax=5.0,\n",
        "    baseline=None,\n",
        "    reject=dict(mag=8e-13),\n",
        "    preload=True,\n",
        ")\n",
        "data_cov = mne.compute_covariance(epochs)\n",
        "del raw, projs_ecg, projs_eog"
      ]
    },
    {
      "cell_type": "markdown",
      "metadata": {},
      "source": [
        "## Compute the forward and inverse\n",
        "\n"
      ]
    },
    {
      "cell_type": "code",
      "execution_count": 4,
      "metadata": {
        "collapsed": false
      },
      "outputs": [
        {
          "name": "stdout",
          "output_type": "stream",
          "text": [
            "BEM              : /Users/siddharthsrivastava/mne_data/MNE-brainstorm-data/bst_resting/subjects/bst_resting/bem/bst_resting-5120-bem-sol.fif\n",
            "grid                  : 15.0 mm\n",
            "mindist               : 5.0 mm\n",
            "MRI volume            : /Users/siddharthsrivastava/mne_data/MNE-brainstorm-data/bst_resting/subjects/bst_resting/mri/T1.mgz\n",
            "\n",
            "Reading /Users/siddharthsrivastava/mne_data/MNE-brainstorm-data/bst_resting/subjects/bst_resting/mri/T1.mgz...\n",
            "\n",
            "Loaded inner skull from /Users/siddharthsrivastava/mne_data/MNE-brainstorm-data/bst_resting/subjects/bst_resting/bem/bst_resting-5120-bem-sol.fif (2562 nodes)\n",
            "Surface CM = (   3.1  -22.2   29.7) mm\n",
            "Surface fits inside a sphere with radius  105.3 mm\n",
            "Surface extent:\n",
            "    x =  -71.2 ...   75.4 mm\n",
            "    y = -110.1 ...   82.9 mm\n",
            "    z =  -48.4 ...   98.1 mm\n",
            "Grid extent:\n",
            "    x =  -75.0 ...   90.0 mm\n",
            "    y = -120.0 ...   90.0 mm\n",
            "    z =  -60.0 ...  105.0 mm\n",
            "2160 sources before omitting any.\n",
            "1364 sources after omitting infeasible sources not within 0.0 - 105.3 mm.\n",
            "Source spaces are in MRI coordinates.\n",
            "Checking that the sources are inside the surface and at least    5.0 mm away (will take a few...)\n",
            "Checking surface interior status for 1364 points...\n",
            "    Found  150/1364 points inside  an interior sphere of radius   49.6 mm\n",
            "    Found    0/1364 points outside an exterior sphere of radius  105.3 mm\n",
            "    Found  761/1214 points outside using surface Qhull\n",
            "    Found   30/ 453 points outside using solid angles\n",
            "    Total 573/1364 points inside the surface\n",
            "Interior check completed in 289.8 ms\n",
            "    791 source space points omitted because they are outside the inner skull surface.\n",
            "    94 source space points omitted because of the    5.0-mm distance limit.\n",
            "479 sources remaining after excluding the sources outside the surface and less than    5.0 mm inside.\n",
            "Adjusting the neighborhood info.\n",
            "Source space : MRI voxel -> MRI (surface RAS)\n",
            "    0.015000 0.000000 0.000000     -75.00 mm\n",
            "    0.000000 0.015000 0.000000    -120.00 mm\n",
            "    0.000000 0.000000 0.015000     -60.00 mm\n",
            "    0.000000 0.000000 0.000000       1.00\n",
            "MRI volume : MRI voxel -> MRI (surface RAS)\n",
            "    -0.001000 0.000000 0.000000     128.00 mm\n",
            "    0.000000 0.000000 0.001000    -128.00 mm\n",
            "    0.000000 -0.001000 0.000000     128.00 mm\n",
            "    0.000000 0.000000 0.000000       1.00\n",
            "MRI volume : MRI (surface RAS) -> RAS (non-zero origin)\n",
            "    1.000000 0.000000 0.000000       0.00 mm\n",
            "    0.000000 1.000000 0.000000       0.00 mm\n",
            "    0.000000 0.000000 1.000000       0.00 mm\n",
            "    0.000000 0.000000 0.000000       1.00\n",
            "Setting up volume interpolation ...\n",
            "    18327567/16777216 nonzero values for the whole brain\n",
            "[done]\n",
            "Source space          : <SourceSpaces: [<volume, shape=(12, 15, 12), n_used=479>] MRI (surface RAS) coords, subject 'bst_resting', ~64.5 MB>\n",
            "MRI -> head transform : /Users/siddharthsrivastava/mne_data/MNE-brainstorm-data/bst_resting/MEG/bst_resting/bst_resting-trans.fif\n",
            "Measurement data      : instance of Info\n",
            "Conductor model   : /Users/siddharthsrivastava/mne_data/MNE-brainstorm-data/bst_resting/subjects/bst_resting/bem/bst_resting-5120-bem-sol.fif\n",
            "Accurate field computations\n",
            "Do computations in head coordinates\n",
            "Free source orientations\n",
            "\n",
            "Read 1 source spaces a total of 479 active source locations\n",
            "\n",
            "Coordinate transformation: MRI (surface RAS) -> head\n",
            "    0.999797 -0.005775 -0.019288       2.71 mm\n",
            "    0.011390 0.952195 0.305279      16.66 mm\n",
            "    0.016602 -0.305437 0.952068      28.47 mm\n",
            "    0.000000 0.000000 0.000000       1.00\n",
            "\n",
            "Read 298 MEG channels from info\n",
            "Read 26 MEG compensation channels from info\n",
            "5 compensation data sets in info\n",
            "Setting up compensation data...\n",
            "    Desired compensation data (3) found.\n",
            "    All compensation channels found.\n",
            "    Preselector created.\n",
            "    Compensation data matrix created.\n",
            "    Postselector created.\n",
            "105 coil definitions read\n",
            "Coordinate transformation: MEG device -> head\n",
            "    0.998490 -0.050225 -0.022235       1.90 mm\n",
            "    0.052235 0.993447 0.101656      13.13 mm\n",
            "    0.016984 -0.102664 0.994571      66.69 mm\n",
            "    0.000000 0.000000 0.000000       1.00\n",
            "MEG coil definitions created in head coordinates.\n",
            "Removing 5 compensators from info because not all compensation channels were picked.\n",
            "Source spaces are now in head coordinates.\n",
            "\n",
            "Setting up the BEM model using /Users/siddharthsrivastava/mne_data/MNE-brainstorm-data/bst_resting/subjects/bst_resting/bem/bst_resting-5120-bem-sol.fif...\n",
            "\n",
            "Loading surfaces...\n",
            "\n",
            "Loading the solution matrix...\n",
            "\n",
            "Homogeneous model surface loaded.\n",
            "Loaded linear collocation BEM solution from /Users/siddharthsrivastava/mne_data/MNE-brainstorm-data/bst_resting/subjects/bst_resting/bem/bst_resting-5120-bem-sol.fif\n",
            "Employing the head->MRI coordinate transform with the BEM model.\n",
            "BEM model bst_resting-5120-bem-sol.fif is now set up\n",
            "\n",
            "Source spaces are in head coordinates.\n",
            "Checking that the sources are inside the surface (will take a few...)\n",
            "Checking surface interior status for 479 points...\n",
            "    Found 150/479 points inside  an interior sphere of radius   49.6 mm\n",
            "    Found   0/479 points outside an exterior sphere of radius  105.3 mm\n",
            "    Found   0/329 points outside using surface Qhull\n",
            "    Found   0/329 points outside using solid angles\n",
            "    Total 479/479 points inside the surface\n",
            "Interior check completed in 279.7 ms\n",
            "\n",
            "Checking surface interior status for 298 points...\n",
            "    Found   0/298 points inside  an interior sphere of radius   49.6 mm\n",
            "    Found 283/298 points outside an exterior sphere of radius  105.3 mm\n",
            "    Found  15/ 15 points outside using surface Qhull\n",
            "    Found   0/  0 points outside using solid angles\n",
            "    Total 0/298 points inside the surface\n",
            "Interior check completed in 119.7 ms\n",
            "\n",
            "Composing the field computation matrix...\n",
            "Computing MEG at 479 source locations (free orientations)...\n",
            "\n",
            "Finished.\n",
            "Removing 5 compensators from info because not all compensation channels were picked.\n",
            "Removing 5 compensators from info because not all compensation channels were picked.\n",
            "Computing rank from covariance with rank='info'\n",
            "    MAG: rank 268 after 4 projectors applied to {n_chan} channel{_pl(n_chan)}\n",
            "Computing rank from covariance with rank='info'\n",
            "    MAG: rank 268 after 4 projectors applied to {n_chan} channel{_pl(n_chan)}\n",
            "Making LCMV beamformer with rank {'mag': 268}\n",
            "Computing inverse operator with 272 channels.\n",
            "    272 out of 272 channels remain after picking\n",
            "Selected 272 channels\n",
            "Whitening the forward solution.\n",
            "    Created an SSP operator (subspace dimension = 4)\n",
            "Computing rank from covariance with rank={'mag': 268}\n",
            "    Setting small MAG eigenvalues to zero (without PCA)\n",
            "Creating the source covariance matrix\n",
            "Adjusting source covariance matrix.\n",
            "Computing beamformer filters for 479 sources\n",
            "Filter computation complete\n"
          ]
        }
      ],
      "source": [
        "# This source space is really far too coarse, but we do this for speed\n",
        "# considerations here\n",
        "pos = 15.0  # 1.5 cm is very broad, done here for speed!\n",
        "src = mne.setup_volume_source_space(\n",
        "    \"bst_resting\", pos, bem=bem, subjects_dir=subjects_dir, verbose=True\n",
        ")\n",
        "fwd = mne.make_forward_solution(epochs.info, trans, src, bem)\n",
        "filters = make_lcmv(\n",
        "    epochs.info, fwd, data_cov, 0.05, cov, pick_ori=\"max-power\", weight_norm=\"nai\"\n",
        ")"
      ]
    },
    {
      "cell_type": "markdown",
      "metadata": {},
      "source": [
        "## Compute label time series and do envelope correlation\n",
        "\n"
      ]
    },
    {
      "cell_type": "code",
      "execution_count": 5,
      "metadata": {
        "collapsed": false
      },
      "outputs": [
        {
          "name": "stdout",
          "output_type": "stream",
          "text": [
            "Processing epoch : 1\n",
            "Processing epoch : 2\n",
            "Processing epoch : 3\n",
            "Processing epoch : 4\n",
            "Processing epoch : 5\n",
            "Processing epoch : 6\n",
            "Processing epoch : 7\n",
            "Processing epoch : 8\n",
            "Processing epoch : 9\n",
            "Processing epoch : 10\n",
            "[done]\n"
          ]
        }
      ],
      "source": [
        "epochs.apply_hilbert()  # faster to do in sensor space\n",
        "stcs = apply_lcmv_epochs(epochs, filters, return_generator=True)\n",
        "corr = envelope_correlation(stcs, verbose=True)\n",
        "del stcs, epochs, filters\n",
        "\n",
        "# average over epochs\n",
        "corr = corr.combine()"
      ]
    },
    {
      "cell_type": "markdown",
      "metadata": {},
      "source": [
        "## Compute the degree and plot it\n",
        "\n"
      ]
    },
    {
      "cell_type": "code",
      "execution_count": 6,
      "metadata": {
        "collapsed": false
      },
      "outputs": [
        {
          "name": "stdout",
          "output_type": "stream",
          "text": [
            "Transforming subject RAS (non-zero origin) -> MNI Talairach\n",
            "    1.029906 0.008134 -0.048341      -1.23 mm\n",
            "    0.013579 0.955254 0.160974      -9.34 mm\n",
            "    0.075120 -0.143988 1.092494     -28.73 mm\n",
            "    0.000000 0.000000 0.000000       1.00\n",
            "\n",
            "Showing: t = 0.000 s, (43.2, -61.2, 16.1) mm, [8, 4, 6] vox, 1136 vertex\n",
            "Using control points [ 82.5  92.3 107. ]\n"
          ]
        },
        {
          "data": {
            "image/png": "[encoded data removed]",
            "text/plain": [
              "<Figure size 640x480 with 6 Axes>"
            ]
          },
          "metadata": {},
          "output_type": "display_data"
        }
      ],
      "source": [
        "degree = mne_connectivity.degree(corr, 0.15)\n",
        "stc = mne.VolSourceEstimate(degree, [src[0][\"vertno\"]], 0, 1, \"bst_resting\")\n",
        "brain = stc.plot(\n",
        "    src,\n",
        "    clim=dict(kind=\"percent\", lims=[75, 85, 95]),\n",
        "    colormap=\"gnuplot\",\n",
        "    subjects_dir=subjects_dir,\n",
        "    mode=\"glass_brain\",\n",
        ")"
      ]
    },
    {
      "cell_type": "markdown",
      "metadata": {},
      "source": [
        "## References\n",
        ".. footbibliography::"
      ]
    }
  ],
  "metadata": {
    "kernelspec": {
      "display_name": "Python 3",
      "language": "python",
      "name": "python3"
    },
    "language_info": {
      "codemirror_mode": {
        "name": "ipython",
        "version": 3
      },
      "file_extension": ".py",
      "mimetype": "text/x-python",
      "name": "python",
      "nbconvert_exporter": "python",
      "pygments_lexer": "ipython3",
      "version": "3.12.2"
    }
  },
  "nbformat": 4,
  "nbformat_minor": 0
}
